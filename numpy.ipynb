{
  "nbformat": 4,
  "nbformat_minor": 0,
  "metadata": {
    "colab": {
      "name": "numpy.ipynb",
      "provenance": [],
      "collapsed_sections": []
    },
    "kernelspec": {
      "name": "python3",
      "display_name": "Python 3"
    },
    "language_info": {
      "name": "python"
    }
  },
  "cells": [
    {
      "cell_type": "code",
      "execution_count": 1,
      "metadata": {
        "colab": {
          "base_uri": "https://localhost:8080/"
        },
        "id": "2doSKQKoUaey",
        "outputId": "19941c78-0028-451f-8ac3-00c65e4ea718"
      },
      "outputs": [
        {
          "output_type": "stream",
          "name": "stdout",
          "text": [
            "[[0, 1, 2], [3, 4, 5], [6, 7, 8]]\n"
          ]
        }
      ],
      "source": [
        "#q1\n",
        "import numpy as np\n",
        "a = np.array([[0,1,2],[3,4,5],[6,7,8]])\n",
        "a=a.tolist()\n",
        "print(a)"
      ]
    },
    {
      "cell_type": "code",
      "source": [
        "#q2\n",
        "a = np.array([[0,1,2],[3,4,5],[6,7,8]])\n",
        "b= np.trace(a)\n",
        "print(b)\n"
      ],
      "metadata": {
        "colab": {
          "base_uri": "https://localhost:8080/"
        },
        "id": "M6z8nyC8U_nT",
        "outputId": "dc9899a9-4c0c-48ea-8400-2509e90d8dad"
      },
      "execution_count": 4,
      "outputs": [
        {
          "output_type": "stream",
          "name": "stdout",
          "text": [
            "12\n"
          ]
        }
      ]
    },
    {
      "cell_type": "code",
      "source": [
        "#q3\n",
        "a = np.array([[0,1,2],[3,4,5],[6,7,8]])\n",
        "print(\"values are greater than x are : \" , a[a>5])"
      ],
      "metadata": {
        "colab": {
          "base_uri": "https://localhost:8080/"
        },
        "id": "lC-fHSgZVTjb",
        "outputId": "99c9d144-2c96-4c45-ed64-ce92b3096566"
      },
      "execution_count": 6,
      "outputs": [
        {
          "output_type": "stream",
          "name": "stdout",
          "text": [
            "values are greater than x are :  [6 7 8]\n"
          ]
        }
      ]
    },
    {
      "cell_type": "code",
      "source": [
        "a = np.array([[0,1,2],[3,4,5],[6,7,8]])\n",
        "b=np.array([[0,1,2],[3,4,5],[6,7,8]])\n",
        "c=a+b\n",
        "print(c)"
      ],
      "metadata": {
        "colab": {
          "base_uri": "https://localhost:8080/"
        },
        "id": "oMTgv7ItWL7I",
        "outputId": "86efce3e-cec0-4b25-f4af-18df8741d887"
      },
      "execution_count": 8,
      "outputs": [
        {
          "output_type": "stream",
          "name": "stdout",
          "text": [
            "[[ 0  2  4]\n",
            " [ 6  8 10]\n",
            " [12 14 16]]\n"
          ]
        }
      ]
    },
    {
      "cell_type": "code",
      "source": [
        "#q5\n",
        "a = np.array([[0,1,2],[3,4,5],[6,7,8]])\n",
        "b= np.mean(a)\n",
        "c=a-b\n",
        "print(c)"
      ],
      "metadata": {
        "colab": {
          "base_uri": "https://localhost:8080/"
        },
        "id": "IxWTc08lWmq-",
        "outputId": "204e0718-7325-4ed6-a8d5-5118b58f13b7"
      },
      "execution_count": 11,
      "outputs": [
        {
          "output_type": "stream",
          "name": "stdout",
          "text": [
            "[[-4. -3. -2.]\n",
            " [-1.  0.  1.]\n",
            " [ 2.  3.  4.]]\n"
          ]
        }
      ]
    },
    {
      "cell_type": "code",
      "source": [
        ""
      ],
      "metadata": {
        "id": "SI391jO5W5_6"
      },
      "execution_count": null,
      "outputs": []
    }
  ]
}